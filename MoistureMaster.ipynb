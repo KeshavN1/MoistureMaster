{
 "cells": [
  {
   "cell_type": "code",
   "execution_count": null,
   "id": "a68c97f8-e21b-4283-a39d-99feef8ce186",
   "metadata": {},
   "outputs": [],
   "source": [
    "#Support Vector Machine model"
   ]
  },
  {
   "cell_type": "code",
   "execution_count": null,
   "id": "a66ad346-ed50-4e78-a9c1-1209161786d6",
   "metadata": {},
   "outputs": [],
   "source": [
    "# Import necessary libraries\n",
    "import pandas as pd\n",
    "from sklearn.model_selection import train_test_split, cross_val_score, GridSearchCV\n",
    "from sklearn.svm import SVR\n",
    "from sklearn.preprocessing import StandardScaler\n",
    "from sklearn.metrics import mean_squared_error, r2_score  \n",
    "import matplotlib.pyplot as plt\n",
    "import joblib\n",
    "import mysql.connector"
   ]
  },
  {
   "cell_type": "code",
   "execution_count": 4,
   "id": "d26ea9bf-283f-46dc-9db0-416407e23fb8",
   "metadata": {},
   "outputs": [
    {
     "name": "stdout",
     "output_type": "stream",
     "text": [
      "<class 'pandas.core.frame.DataFrame'>\n",
      "RangeIndex: 20166 entries, 0 to 20165\n",
      "Data columns (total 9 columns):\n",
      " #   Column                Non-Null Count  Dtype  \n",
      "---  ------                --------------  -----  \n",
      " 0   pressure              20166 non-null  float64\n",
      " 1   particulate matter1   20166 non-null  float64\n",
      " 2   particulate matter2   20166 non-null  float64\n",
      " 3   particulate matter3   20166 non-null  float64\n",
      " 4   atmospheric moisture  20166 non-null  float64\n",
      " 5   moisture              20166 non-null  int64  \n",
      " 6   luminosity            20166 non-null  int64  \n",
      " 7   temperature           20166 non-null  float64\n",
      " 8   humidity              20166 non-null  float64\n",
      "dtypes: float64(7), int64(2)\n",
      "memory usage: 1.4 MB\n",
      "None\n",
      "           pressure  particulate matter1  particulate matter2  \\\n",
      "count  20166.000000         20166.000000         20166.000000   \n",
      "mean   93154.619405             1.585495             2.581223   \n",
      "std      290.963485             1.045641             1.288723   \n",
      "min    92352.450000             0.550000             0.000000   \n",
      "25%    92976.272500             0.550000             1.670000   \n",
      "50%    93152.930000             1.110000             2.230000   \n",
      "75%    93350.997500             2.230000             3.350000   \n",
      "max    94042.780000             6.700000             6.700000   \n",
      "\n",
      "       particulate matter3  atmospheric moisture      moisture    luminosity  \\\n",
      "count         20166.000000          20166.000000  20166.000000  20166.000000   \n",
      "mean             59.172185              0.729346   4339.095656   2891.423039   \n",
      "std              28.166706              1.795355   3077.733911   4277.275782   \n",
      "min               0.000000              0.000000      0.000000      0.000000   \n",
      "25%              36.880000              0.000000    465.250000      2.000000   \n",
      "50%              51.400000              0.000000   6410.000000    165.500000   \n",
      "75%              77.110000              0.000000   7042.000000   5275.000000   \n",
      "max             153.660000             18.390000   7937.000000  19767.000000   \n",
      "\n",
      "        temperature      humidity  \n",
      "count  20166.000000  20166.000000  \n",
      "mean      22.625972     78.329035  \n",
      "std        4.666760     24.007034  \n",
      "min        8.610000     13.320000  \n",
      "25%       20.000000     61.690000  \n",
      "50%       21.430000     88.220000  \n",
      "75%       26.110000    100.000000  \n",
      "max       36.880000    100.000000  \n"
     ]
    }
   ],
   "source": [
    "# Load dataset\n",
    "dataset = pd.read_csv(\"SoilMoistureData.csv\")\n",
    "\n",
    "# Display basic information about the dataset\n",
    "print(dataset.info())\n",
    "\n",
    "# Display summary statistics\n",
    "print(dataset.describe())"
   ]
  },
  {
   "cell_type": "code",
   "execution_count": null,
   "id": "64412989-91e4-431a-97ee-b9148b0141a1",
   "metadata": {},
   "outputs": [],
   "source": [
    "# Connect to MySQL database\n",
    "conn = mysql.connector.connect(\n",
    "    host=\"localhost\",\n",
    "    user=\"root\",\n",
    "    password=\"\",\n",
    "    database=\"data\"\n",
    ")"
   ]
  },
  {
   "cell_type": "code",
   "execution_count": null,
   "id": "ad2bc45c-c2e2-42af-9b4c-921ed32c6f92",
   "metadata": {},
   "outputs": [],
   "source": [
    "# Query data from phpMyAdmin database\n",
    "query = \"SELECT temperature, moisture, humidity FROM soilmoisture\"\n",
    "dataset_db = pd.read_sql(query, conn)"
   ]
  },
  {
   "cell_type": "code",
   "execution_count": null,
   "id": "47590a4d-01ce-4fb4-8ab2-e39badbb16d5",
   "metadata": {},
   "outputs": [],
   "source": [
    "# Rename columns to match CSV dataset\n",
    "dataset_db.columns = ['temperature', 'humidity', 'moisture']"
   ]
  },
  {
   "cell_type": "code",
   "execution_count": null,
   "id": "9b34709c-81a5-4309-b749-4ca010cafb23",
   "metadata": {},
   "outputs": [],
   "source": [
    "# Concatenate datasets\n",
    "combined_dataset = pd.concat([dataset, dataset_db], ignore_index=True)"
   ]
  },
  {
   "cell_type": "code",
   "execution_count": null,
   "id": "2387b874-ac9e-4d44-8d8d-c96bddc283d3",
   "metadata": {},
   "outputs": [],
   "source": [
    "# Ensure column names are correct and without leading/trailing spaces\n",
    "combined_dataset.columns = combined_dataset.columns.str.strip()"
   ]
  },
  {
   "cell_type": "code",
   "execution_count": null,
   "id": "d27d792e-5650-41c9-88c5-3ee9be3b7f2f",
   "metadata": {},
   "outputs": [],
   "source": [
    "\n",
    "print(combined_dataset.describe())"
   ]
  },
  {
   "cell_type": "code",
   "execution_count": null,
   "id": "d33f9fc5-6da4-4dc1-9eec-77faac7b341b",
   "metadata": {},
   "outputs": [],
   "source": [
    "# Function to detect outliers using Z-score\n",
    "def detect_outliers_zscore(data, threshold=3):\n",
    "    z_scores = ((data - data.mean()) / data.std()).abs()\n",
    "    return z_scores > threshold\n",
    "\n",
    "# Detect outliers in the dataset\n",
    "outliers = detect_outliers_zscore(combined_dataset.drop(columns=['moisture']))\n",
    "\n",
    "# Remove outliers from the dataset\n",
    "dataset_no_outliers = combined_dataset[~outliers.any(axis=1)]\n"
   ]
  },
  {
   "cell_type": "code",
   "execution_count": null,
   "id": "0b810679-c75e-43e4-9e2e-0df339de49ac",
   "metadata": {},
   "outputs": [],
   "source": [
    "# Separate features and target variable\n",
    "X = dataset_no_outliers.drop(columns=['moisture'])  # Features\n",
    "y = dataset_no_outliers['moisture']  # Target variable"
   ]
  },
  {
   "cell_type": "code",
   "execution_count": null,
   "id": "05179867-5ba3-4f0b-b07d-3ccf266694c6",
   "metadata": {},
   "outputs": [],
   "source": [
    "# Split data into training and testing sets\n",
    "X_train, X_test, y_train, y_test = train_test_split(X, y, test_size=0.2, random_state=42)"
   ]
  },
  {
   "cell_type": "code",
   "execution_count": null,
   "id": "8e942340-c90a-4809-aad9-376db71a76fa",
   "metadata": {},
   "outputs": [],
   "source": [
    "# Scale features\n",
    "scaler = StandardScaler()\n",
    "X_train_scaled = scaler.fit_transform(X_train)\n",
    "X_test_scaled = scaler.transform(X_test)\n"
   ]
  },
  {
   "cell_type": "code",
   "execution_count": null,
   "id": "f3fb3861-99f4-4123-8bda-4c9a0f449a3f",
   "metadata": {},
   "outputs": [],
   "source": [
    "# Convert target variable to float\n",
    "y_train_float = y_train.astype(float)\n"
   ]
  },
  {
   "cell_type": "code",
   "execution_count": null,
   "id": "2a37f760-8782-4f05-8818-bbcbb19e529d",
   "metadata": {},
   "outputs": [],
   "source": [
    "# Define parameter grid for GridSearchCV\n",
    "param_grid = {\n",
    "    'kernel': ['linear', 'rbf', 'poly'],  # Add more kernels if needed\n",
    "    'C': [0.1, 1, 10],  # Regularization parameter\n",
    "    'gamma': ['scale', 'auto']  # Kernel coefficient for 'rbf' and 'poly' kernels\n",
    "}"
   ]
  },
  {
   "cell_type": "code",
   "execution_count": null,
   "id": "ce1225eb-80a4-4020-be42-1a90a47d2545",
   "metadata": {},
   "outputs": [],
   "source": [
    "# Initialize SVR model\n",
    "svm_model = SVR()"
   ]
  },
  {
   "cell_type": "code",
   "execution_count": null,
   "id": "7437a350-44a8-4c6a-86d7-5e0e376e9b72",
   "metadata": {},
   "outputs": [],
   "source": [
    "# Initialize GridSearchCV\n",
    "grid_search = GridSearchCV(svm_model, param_grid, cv=5, scoring='neg_mean_squared_error')"
   ]
  },
  {
   "cell_type": "code",
   "execution_count": null,
   "id": "f2458cf5-646c-4846-8622-96c31d87f4c4",
   "metadata": {},
   "outputs": [],
   "source": [
    "# Perform grid search\n",
    "grid_search.fit(X_train_scaled, y_train_float)"
   ]
  },
  {
   "cell_type": "code",
   "execution_count": null,
   "id": "ff5fc2c2-25e5-4ea1-b36c-2fe23c1c75ce",
   "metadata": {},
   "outputs": [],
   "source": [
    "# Get best parameters and best model\n",
    "best_params = grid_search.best_params_\n",
    "best_svm_model = grid_search.best_estimator_"
   ]
  },
  {
   "cell_type": "code",
   "execution_count": null,
   "id": "5b07a121-1c5d-4ba4-af48-c3fa6bb36dd3",
   "metadata": {},
   "outputs": [],
   "source": [
    "# Print best parameters\n",
    "print(\"Best Parameters:\", best_params)\n"
   ]
  },
  {
   "cell_type": "code",
   "execution_count": null,
   "id": "7d28d4cd-c11a-4a0d-a2ac-df400f21234d",
   "metadata": {},
   "outputs": [],
   "source": [
    "# Predict with the best model\n",
    "y_pred_best = best_svm_model.predict(X_test_scaled)\n"
   ]
  },
  {
   "cell_type": "code",
   "execution_count": null,
   "id": "52700592-93e4-4f8a-86c8-9d87c5698712",
   "metadata": {},
   "outputs": [],
   "source": [
    "# Evaluate the best model\n",
    "mse_best = mean_squared_error(y_test, y_pred_best)\n",
    "rmse_best = mean_squared_error(y_test, y_pred_best, squared=False)\n",
    "r2_best = r2_score(y_test, y_pred_best)\n",
    "\n",
    "# Print evaluation metrics\n",
    "print(\"Best Model - Mean Squared Error (MSE):\", mse_best)\n",
    "print(\"Best Model - Root Mean Squared Error (RMSE):\", rmse_best)\n",
    "print(\"Best Model - R-squared (R2) Score:\", r2_best)\n"
   ]
  },
  {
   "cell_type": "code",
   "execution_count": null,
   "id": "73c1ef2a-f656-4c7e-b17c-e6ff89451b3d",
   "metadata": {},
   "outputs": [],
   "source": [
    "# Cross-validation for model evaluation\n",
    "cv_scores = cross_val_score(svm_model, X_train_scaled, y_train_float, cv=5, scoring='neg_mean_squared_error')\n",
    "print(\"Cross-Validation Mean Squared Error:\", -cv_scores.mean())"
   ]
  },
  {
   "cell_type": "code",
   "execution_count": null,
   "id": "13bda8fa-995f-4f83-aeb3-8a459c7e31e2",
   "metadata": {},
   "outputs": [],
   "source": [
    "\n",
    "# Save the trained model\n",
    "joblib.dump(best_svm_model, 'svm_model.pkl')"
   ]
  },
  {
   "cell_type": "code",
   "execution_count": null,
   "id": "a7a81c2d-f153-4730-a773-46d4e2d5ac4a",
   "metadata": {},
   "outputs": [],
   "source": [
    "# Plot actual vs. predicted soil moisture values\n",
    "plt.figure(figsize=(10, 6))\n",
    "plt.scatter(y_test, y_pred_best, color='blue')\n",
    "plt.plot([min(y_test), max(y_test)], [min(y_test), max(y_test)], 'k--', lw=2)\n",
    "plt.xlabel('Actual Soil Moisture')\n",
    "plt.ylabel('Predicted Soil Moisture')\n",
    "plt.title('Actual vs. Predicted Soil Moisture')\n",
    "plt.show()\n",
    "\n"
   ]
  },
  {
   "cell_type": "code",
   "execution_count": null,
   "id": "58b10dae-b8be-44d9-af6a-34b8e4197619",
   "metadata": {},
   "outputs": [],
   "source": [
    "# Plot distribution of soil moisture values in the dataset\n",
    "plt.figure(figsize=(10, 6))\n",
    "plt.hist(y, bins=30, color='green', alpha=0.7)\n",
    "plt.xlabel('Soil Moisture')\n",
    "plt.ylabel('Frequency')\n",
    "plt.title('Distribution of Soil Moisture Values')\n",
    "plt.show()"
   ]
  },
  {
   "cell_type": "code",
   "execution_count": null,
   "id": "2a0aad27-1918-4d2c-9441-e386d879317a",
   "metadata": {},
   "outputs": [],
   "source": [
    "# Residual Plot\n",
    "plt.figure(figsize=(10, 6))\n",
    "plt.scatter(y_pred_best, y_pred_best - y_test, color='red')\n",
    "plt.hlines(y=0, xmin=min(y_pred_best), xmax=max(y_pred_best), colors='black', lw=2)\n",
    "plt.xlabel('Predicted Soil Moisture')\n",
    "plt.ylabel('Residuals')\n",
    "plt.title('Residual Plot')\n",
    "plt.show()"
   ]
  },
  {
   "cell_type": "code",
   "execution_count": null,
   "id": "c5b492b4-74f7-4a05-86a2-36599c28fe67",
   "metadata": {},
   "outputs": [],
   "source": [
    "\n",
    "# Feature Distribution Plots\n",
    "plt.figure(figsize=(12, 8))\n",
    "for i, col in enumerate(X.columns):\n",
    "    plt.subplot(3, 3, i + 1)\n",
    "    plt.hist(X[col], bins=30, color='blue', alpha=0.7)\n",
    "    plt.title(col)\n",
    "plt.tight_layout()\n",
    "plt.show()\n"
   ]
  },
  {
   "cell_type": "code",
   "execution_count": null,
   "id": "2da8b249-f7fe-4860-9abf-86c53c16f4e3",
   "metadata": {},
   "outputs": [],
   "source": [
    "# Learning Curve\n",
    "from sklearn.model_selection import learning_curve\n",
    "train_sizes, train_scores, test_scores = learning_curve(svm_model, X_train_scaled, y_train_float, cv=5)\n",
    "train_scores_mean = np.mean(train_scores, axis=1)\n",
    "train_scores_std = np.std(train_scores, axis=1)\n",
    "test_scores_mean = np.mean(test_scores, axis=1)\n",
    "test_scores_std = np.std(test_scores, axis=1)\n",
    "\n",
    "plt.figure(figsize=(10, 6))\n",
    "plt.fill_between(train_sizes, train_scores_mean - train_scores_std,\n",
    "                 train_scores_mean + train_scores_std, alpha=0.1,\n",
    "                 color=\"r\")\n",
    "plt.fill_between(train_sizes, test_scores_mean - test_scores_std,\n",
    "                 test_scores_mean + test_scores_std, alpha=0.1, color=\"g\")\n",
    "plt.plot(train_sizes, train_scores_mean, 'o-', color=\"r\", label=\"Training score\")\n",
    "plt.plot(train_sizes, test_scores_mean, 'o-', color=\"g\", label=\"Cross-validation score\")\n",
    "plt.xlabel(\"Training examples\")\n",
    "plt.ylabel(\"Score\")\n",
    "plt.title(\"Learning Curve\")\n",
    "plt.legend(loc=\"best\")\n",
    "plt.show()\n"
   ]
  },
  {
   "cell_type": "code",
   "execution_count": null,
   "id": "27180c3e-18a1-4965-b9c9-d1c7160ec88c",
   "metadata": {},
   "outputs": [],
   "source": [
    "# Feature Importance Plot\n",
    "if svm_model.kernel == 'linear':\n",
    "    feature_importance = pd.Series(svm_model.coef_.flatten(), index=X.columns)\n",
    "    feature_importance.plot(kind='bar', figsize=(10, 6))\n",
    "    plt.title('Feature Importance')\n",
    "    plt.xlabel('Feature')\n",
    "    plt.ylabel('Coefficient')\n",
    "    plt.show()\n"
   ]
  },
  {
   "cell_type": "code",
   "execution_count": null,
   "id": "98c5bf54-fee9-4546-8a5d-5f4e91887a42",
   "metadata": {},
   "outputs": [],
   "source": [
    "# Close the database connection\n",
    "conn.close()"
   ]
  },
  {
   "cell_type": "code",
   "execution_count": null,
   "id": "451bd907-cae5-4c5f-a817-718c22f03327",
   "metadata": {},
   "outputs": [],
   "source": []
  },
  {
   "cell_type": "code",
   "execution_count": null,
   "id": "6d9b8e7f-61be-4dbb-8bbf-4f3560272e20",
   "metadata": {},
   "outputs": [],
   "source": [
    "#Random Forest regressor Model"
   ]
  },
  {
   "cell_type": "code",
   "execution_count": null,
   "id": "292f6706-d455-4a4a-9f34-78317ed6907b",
   "metadata": {},
   "outputs": [],
   "source": [
    "# Import necessary libraries\n",
    "import pandas as pd\n",
    "import numpy as np\n",
    "import matplotlib.pyplot as plt\n",
    "import seaborn as sns\n",
    "from sklearn.model_selection import train_test_split, GridSearchCV\n",
    "from sklearn.ensemble import RandomForestRegressor\n",
    "from sklearn.metrics import mean_squared_error, r2_score\n",
    "from sklearn.preprocessing import StandardScaler\n",
    "import joblib"
   ]
  },
  {
   "cell_type": "code",
   "execution_count": null,
   "id": "7b035880-ba71-46aa-9186-e992783b3324",
   "metadata": {},
   "outputs": [],
   "source": [
    "# Load the dataset\n",
    "# Replace 'path_to_dataset.csv' with the path to your actual dataset\n",
    "data = pd.read_csv('SoilMoistureData.csv')\n",
    "# Display basic information about the dataset\n",
    "print(data.info())\n",
    "\n",
    "# Display summary statistics\n",
    "print(data.describe())"
   ]
  },
  {
   "cell_type": "code",
   "execution_count": null,
   "id": "9de35df6-3b9e-4254-b81a-e0183192b6d3",
   "metadata": {},
   "outputs": [],
   "source": [
    "# Display the first few rows of the dataset\n",
    "print(\"First few rows of the dataset:\")\n",
    "print(data.head())"
   ]
  },
  {
   "cell_type": "code",
   "execution_count": null,
   "id": "9d445968-dce8-473c-82ac-b681c9982e75",
   "metadata": {},
   "outputs": [],
   "source": [
    "# Check for missing values\n",
    "print(\"\\nMissing values in each column:\")\n",
    "print(data.isnull().sum())"
   ]
  },
  {
   "cell_type": "code",
   "execution_count": null,
   "id": "046a4533-e69c-4137-8dc3-96c297f4e14d",
   "metadata": {},
   "outputs": [],
   "source": [
    "# Handle missing values (if any)\n",
    "# For simplicity, fill missing values with the mean of the column\n",
    "data.fillna(data.mean(), inplace=True)"
   ]
  },
  {
   "cell_type": "code",
   "execution_count": null,
   "id": "0c1fc26f-6b79-489a-8239-98a949fe7a7f",
   "metadata": {},
   "outputs": [],
   "source": [
    "# Summary statistics of the dataset\n",
    "print(\"\\nSummary statistics of the dataset:\")\n",
    "print(data.describe())\n",
    "print(data.info())"
   ]
  },
  {
   "cell_type": "code",
   "execution_count": null,
   "id": "f7b56eda-ceac-44db-9fbf-d9e1849dd6ec",
   "metadata": {},
   "outputs": [],
   "source": [
    "# Visualize the data distribution for each feature\n",
    "print(\"\\nData distribution for each feature:\")\n",
    "data.hist(bins=50, figsize=(20, 15))\n",
    "plt.show()"
   ]
  },
  {
   "cell_type": "code",
   "execution_count": null,
   "id": "b8742d45-27ce-4773-8f7a-d5c41f7b8590",
   "metadata": {},
   "outputs": [],
   "source": [
    "# Pairplot to visualize relationships between features\n",
    "print(\"\\nPairplot of the dataset:\")\n",
    "sns.pairplot(data)\n",
    "plt.show()"
   ]
  },
  {
   "cell_type": "code",
   "execution_count": null,
   "id": "f2a8445a-2a57-4fd4-98e6-9e93b06c69e4",
   "metadata": {},
   "outputs": [],
   "source": [
    "# Correlation matrix to understand relationships between variables\n",
    "corr_matrix = data.corr()\n",
    "print(\"\\nCorrelation matrix:\")\n",
    "print(corr_matrix)"
   ]
  },
  {
   "cell_type": "code",
   "execution_count": null,
   "id": "0b1f1275-e7d9-47c6-acf8-67a7293e9936",
   "metadata": {},
   "outputs": [],
   "source": [
    "# Heatmap of the correlation matrix\n",
    "plt.figure(figsize=(10, 8))\n",
    "sns.heatmap(corr_matrix, annot=True, cmap='coolwarm')\n",
    "plt.title(\"Correlation Matrix Heatmap\")\n",
    "plt.show()"
   ]
  },
  {
   "cell_type": "code",
   "execution_count": null,
   "id": "96022be5-8f23-4081-ae63-257b46452d42",
   "metadata": {},
   "outputs": [],
   "source": [
    "# Scatter plot for each feature vs the target variable\n",
    "target = 'moisture'\n",
    "for column in data.columns:\n",
    "    if column != target:\n",
    "        plt.figure(figsize=(8, 6))\n",
    "        plt.scatter(data[column], data[target])\n",
    "        plt.xlabel(column)\n",
    "        plt.ylabel(target)\n",
    "        plt.title(f'{column} vs {target}')\n",
    "        plt.show()"
   ]
  },
  {
   "cell_type": "code",
   "execution_count": null,
   "id": "8e5f032b-0412-480b-a590-83fcd9fb7a7c",
   "metadata": {},
   "outputs": [],
   "source": [
    "# Define features and target variable\n",
    "# Assuming 'soil_moisture' is the target variable\n",
    "X = data.drop('moisture', axis=1)  # Features\n",
    "y = data['moisture']  # Target variable"
   ]
  },
  {
   "cell_type": "code",
   "execution_count": null,
   "id": "62da97f0-d22d-48ee-90cf-677a899524dd",
   "metadata": {},
   "outputs": [],
   "source": [
    "# Standardize the features\n",
    "scaler = StandardScaler()\n",
    "X_scaled = scaler.fit_transform(X)"
   ]
  },
  {
   "cell_type": "code",
   "execution_count": null,
   "id": "735fdadc-f70e-4d79-8b0c-5fadcae62c50",
   "metadata": {},
   "outputs": [],
   "source": [
    "# Split the data into training and testing sets\n",
    "X_train, X_test, y_train, y_test = train_test_split(X_scaled, y, test_size=0.2, random_state=42)"
   ]
  },
  {
   "cell_type": "code",
   "execution_count": null,
   "id": "4702ced0-0d99-49bb-87a3-c8d575956429",
   "metadata": {},
   "outputs": [],
   "source": [
    "# Initialize the Random Forest model\n",
    "rf_model = RandomForestRegressor(random_state=42)"
   ]
  },
  {
   "cell_type": "code",
   "execution_count": null,
   "id": "9d0dbf60-faf0-465d-851b-5c8148c28e0e",
   "metadata": {},
   "outputs": [],
   "source": [
    "# Make predictions on the test set\n",
    "y_pred = best_rf_model.predict(X_test)"
   ]
  },
  {
   "cell_type": "code",
   "execution_count": null,
   "id": "81acbcef-0e58-4afc-8190-21c9f50e408b",
   "metadata": {},
   "outputs": [],
   "source": [
    "# Evaluate the model\n",
    "mse = mean_squared_error(y_test, y_pred)\n",
    "rmse = np.sqrt(mse)\n",
    "r2 = r2_score(y_test, y_pred)\n",
    "\n",
    "print(f\"\\nModel evaluation results with optimized parameters:\")\n",
    "print(f\"Root Mean Squared Error (RMSE): {rmse}\")\n",
    "print(f\"R^2 Score: {r2}\")"
   ]
  },
  {
   "cell_type": "code",
   "execution_count": null,
   "id": "2e7c552c-ad9d-427e-a59a-393bd3770cfc",
   "metadata": {},
   "outputs": [],
   "source": [
    "# Feature importance\n",
    "importances = best_rf_model.feature_importances_\n",
    "indices = np.argsort(importances)[::-1]"
   ]
  },
  {
   "cell_type": "code",
   "execution_count": null,
   "id": "09e8d6f5-b58f-4027-8667-4dc5a2ad48ee",
   "metadata": {},
   "outputs": [],
   "source": [
    "# Print the feature ranking\n",
    "print(\"\\nFeature ranking:\")\n",
    "for f in range(X_train.shape[1]):\n",
    "    print(f\"{f + 1}. feature {X.columns[indices[f]]} ({importances[indices[f]]})\")"
   ]
  },
  {
   "cell_type": "code",
   "execution_count": null,
   "id": "39bfd314-f60d-474c-9f08-5196651f2535",
   "metadata": {},
   "outputs": [],
   "source": [
    "# Plot the feature importances of the forest\n",
    "plt.figure(figsize=(12, 6))\n",
    "plt.title(\"Feature Importances\")\n",
    "plt.bar(range(X_train.shape[1]), importances[indices], align=\"center\")\n",
    "plt.xticks(range(X_train.shape[1]), X.columns[indices], rotation=90)\n",
    "plt.xlim([-1, X_train.shape[1]])\n",
    "plt.show()"
   ]
  },
  {
   "cell_type": "code",
   "execution_count": null,
   "id": "1dc4b915-35bb-4cec-93c0-cf55e569a09c",
   "metadata": {},
   "outputs": [],
   "source": [
    "# Save the model and the scaler\n",
    "joblib.dump(best_rf_model, 'optimized_soil_moisture_model.pkl')\n",
    "joblib.dump(scaler, 'scaler.pkl')\n",
    "\n",
    "print(\"\\nModel and scaler saved successfully!\")"
   ]
  }
 ],
 "metadata": {
  "kernelspec": {
   "display_name": "Python 3 (ipykernel)",
   "language": "python",
   "name": "python3"
  },
  "language_info": {
   "codemirror_mode": {
    "name": "ipython",
    "version": 3
   },
   "file_extension": ".py",
   "mimetype": "text/x-python",
   "name": "python",
   "nbconvert_exporter": "python",
   "pygments_lexer": "ipython3",
   "version": "3.11.7"
  }
 },
 "nbformat": 4,
 "nbformat_minor": 5
}
